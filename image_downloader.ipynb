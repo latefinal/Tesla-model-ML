{
 "cells": [
  {
   "cell_type": "code",
   "execution_count": 14,
   "id": "83bde851-d7ed-480b-ae09-2c63f81bf619",
   "metadata": {},
   "outputs": [
    {
     "name": "stdout",
     "output_type": "stream",
     "text": [
      "<html><head><title>shutterstock.com</title><style>#cmsg{animation: A 1.5s;}@keyframes A{0%{opacity:0;}99%{opacity:0;}100%{opacity:1;}}</style></head><body style=\"margin:0\"><p id=\"cmsg\">Please enable JS and disable any ad blocker</p><script data-cfasync=\"false\">var dd={'rt':'c','cid':'AHrlqAAAAAMAwYGxAqO97rkARjJ5ig==','hsh':'1A1097A806C03451D36605BD91879C','t':'bv','s':49527,'e':'4bd43a705e33828a7b532a1f7e0ac7a6d2c8e2f7954d6b9cd085a87b116686cd','host':'geo.captcha-delivery.com','cookie':'jEMOXbUfDpiSU_VgLyRxSOFcUX2iCpZR9YjohyMDaZs8Pw8LaNSiNyzFAw8AwYuDc4y3lxhZHRPc7nhiB_ZWg0sIFtP_JVnjOCehHToWXsEijBQev~EVIcUG16k33qrl'}</script><script data-cfasync=\"false\" src=\"https://ct.captcha-delivery.com/c.js\"></script></body></html>\n",
      "[]\n"
     ]
    }
   ],
   "source": [
    "# Step 1: Install required libraries\n",
    "# Run this in your terminal or environment if you haven't installed them yet\n",
    "# pip install requests beautifulsoup4\n",
    "\n",
    "# Step 2: Import Libraries\n",
    "import requests\n",
    "from bs4 import BeautifulSoup\n",
    "import os\n",
    "import urllib.request\n",
    "\n",
    "# Step 3: Set Up the Target URL (example URL, replace as needed)\n",
    "URL = \"https://www.shutterstock.com/zh-Hant/search/tesla-model-y?cr=c&gad_source=1&gbraid=0AAAAAD9FeHBxy_QIp5lwBpaYFzjiWXI_D&gclid=CjwKCAiAudG5BhAREiwAWMlSjFMdQ6abK8FsnXtbK6sleBzmd7UiC-oVY14BAD4po2H9pVuvwaKaixoCmksQAvD_BwE&gclsrc=aw.ds&pl=PPC_GOO_CA_PM-&authentic=true\"\n",
    "\n",
    "# Step 4: Send a GET Request\n",
    "response = requests.get(URL)\n",
    "\n",
    "# Step 5: Parse the HTML Content\n",
    "soup = BeautifulSoup(response.content, 'html.parser')\n",
    "print(soup)\n",
    "\n",
    "# Step 6: Find Image Tags\n",
    "image_tags = soup.find_all('div', class_='mui-9sfs09-gridContainer-root')  # Class may vary; inspect the page source to find the correct class\n",
    "\n",
    "print(image_tags)\n",
    "\n",
    "# # Step 7: Extract Image URLs\n",
    "# image_urls = [img['src'] for img in image_tags]\n",
    "\n",
    "# # Step 8: Download Images\n",
    "# # Create a directory to save images\n",
    "# os.makedirs('images', exist_ok=True)\n",
    "\n",
    "# for i, url in enumerate(image_urls):\n",
    "#     # Save each image as image_0.jpg, image_1.jpg, etc.\n",
    "#     urllib.request.urlretrieve(url, f\"images/image_{i}.jpg\")\n",
    "\n",
    "# print(\"Images downloaded successfully.\")"
   ]
  },
  {
   "cell_type": "code",
   "execution_count": null,
   "id": "c7b470af-d8bc-43ec-8c2e-9a103ea05420",
   "metadata": {},
   "outputs": [],
   "source": []
  }
 ],
 "metadata": {
  "kernelspec": {
   "display_name": "Python 3 (ipykernel)",
   "language": "python",
   "name": "python3"
  },
  "language_info": {
   "codemirror_mode": {
    "name": "ipython",
    "version": 3
   },
   "file_extension": ".py",
   "mimetype": "text/x-python",
   "name": "python",
   "nbconvert_exporter": "python",
   "pygments_lexer": "ipython3",
   "version": "3.13.0"
  }
 },
 "nbformat": 4,
 "nbformat_minor": 5
}
