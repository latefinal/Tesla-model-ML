{
 "cells": [
  {
   "cell_type": "code",
   "execution_count": 10,
   "id": "83bde851-d7ed-480b-ae09-2c63f81bf619",
   "metadata": {},
   "outputs": [
    {
     "name": "stdout",
     "output_type": "stream",
     "text": [
      "[<div class=\"n692Zd\"><div class=\"BnJWBc\"><a class=\"lXLRf\" href=\"/?client=safari&amp;sa=X&amp;sca_esv=01cba71388b00108&amp;biw=1734&amp;bih=1034&amp;output=images&amp;ie=UTF-8&amp;tbm=isch&amp;ved=0ahUKEwjxkbqk0dmJAxVLEGIAHUuyL_oQPAgC\"><img alt=\"Google\" class=\"kgJEQe\" src=\"/images/branding/searchlogo/1x/googlelogo_desk_heirloom_color_150x55dp.gif\"/></a></div><div class=\"FbhRzb\"><form action=\"/search\"><input name=\"client\" type=\"hidden\" value=\"safari\"/><input name=\"sca_esv\" type=\"hidden\" value=\"01cba71388b00108\"/><input name=\"biw\" type=\"hidden\" value=\"1734\"/><input name=\"bih\" type=\"hidden\" value=\"1034\"/><input name=\"ie\" type=\"hidden\" value=\"ISO-8859-1\"/><input name=\"tbm\" type=\"hidden\" value=\"isch\"/><input name=\"oq\" type=\"hidden\"/><input name=\"aqs\" type=\"hidden\"/><table class=\"cvifge\"><tr><td class=\"O4cRJf\"><input class=\"MhzMZd\" name=\"q\" type=\"text\" value=\"tesla model y\"/></td><td class=\"O1ePr\"><input class=\"xB0fq\" type=\"submit\" value=\"Search\"/></td></tr></table></form></div><div class=\"M7pB2\"><table class=\"euZec\"><tbody><tr><td><a class=\"CsQyDc\" href=\"/search?q=tesla+model+y&amp;client=safari&amp;sca_esv=01cba71388b00108&amp;biw=1734&amp;bih=1034&amp;ie=UTF-8&amp;source=lnms&amp;fbs=AEQNm0Aa4sjWe7Rqy32pFwRj0UkWd8nbOJfsBGGB5IQQO6L3J03RPjGV0MznOJ6Likin94p8FXzmjNmbQ-4rMNC3Kdp_MfCGNDf2gMtFo_xmu34b5BO1faXkOZydnALlPCXGOWugHDbKXz4py2cV9uHm3ebanoxzTMd3wEyKPywKolhmuUaz-wolR6Ah2iOXszV1lqWlwdUAWw3xiY56Rgzn9waXaTdP8A&amp;sa=X&amp;ved=0ahUKEwjxkbqk0dmJAxVLEGIAHUuyL_oQ_AUIBCgA\">ALL</a></td><td class=\"EY24We\"><span class=\"QIqI7\">IMAGES</span></td><td><a class=\"CsQyDc\" href=\"/search?q=tesla+model+y&amp;client=safari&amp;sca_esv=01cba71388b00108&amp;biw=1734&amp;bih=1034&amp;ie=UTF-8&amp;tbm=nws&amp;source=lnms&amp;fbs=AEQNm0Aa4sjWe7Rqy32pFwRj0UkWd8nbOJfsBGGB5IQQO6L3J03RPjGV0MznOJ6Likin94p8FXzmjNmbQ-4rMNC3Kdp_MfCGNDf2gMtFo_xmu34b5BO1faXkOZydnALlPCXGOWugHDbKXz4py2cV9uHm3ebanoxzTMd3wEyKPywKolhmuUaz-wolR6Ah2iOXszV1lqWlwdUAWw3xiY56Rgzn9waXaTdP8A&amp;sa=X&amp;ved=0ahUKEwjxkbqk0dmJAxVLEGIAHUuyL_oQ_AUIBigC\">NEWS</a></td><td><a class=\"CsQyDc\" href=\"/search?q=tesla+model+y&amp;client=safari&amp;sca_esv=01cba71388b00108&amp;biw=1734&amp;bih=1034&amp;ie=UTF-8&amp;tbm=vid&amp;source=lnms&amp;fbs=AEQNm0Aa4sjWe7Rqy32pFwRj0UkWd8nbOJfsBGGB5IQQO6L3J03RPjGV0MznOJ6Likin94p8FXzmjNmbQ-4rMNC3Kdp_MfCGNDf2gMtFo_xmu34b5BO1faXkOZydnALlPCXGOWugHDbKXz4py2cV9uHm3ebanoxzTMd3wEyKPywKolhmuUaz-wolR6Ah2iOXszV1lqWlwdUAWw3xiY56Rgzn9waXaTdP8A&amp;sa=X&amp;ved=0ahUKEwjxkbqk0dmJAxVLEGIAHUuyL_oQ_AUIBygD\">VIDEOS</a></td></tr></tbody></table></div></div>]\n"
     ]
    }
   ],
   "source": [
    "# Step 1: Install required libraries\n",
    "# Run this in your terminal or environment if you haven't installed them yet\n",
    "# pip install requests beautifulsoup4\n",
    "\n",
    "# Step 2: Import Libraries\n",
    "import requests\n",
    "from bs4 import BeautifulSoup\n",
    "import os\n",
    "import urllib.request\n",
    "\n",
    "# Step 3: Set Up the Target URL (example URL, replace as needed)\n",
    "URL = \"https://www.google.com/search?client=safari&sca_esv=01cba71388b00108&sxsrf=ADLYWIKUR4rVgLRHWwwSqWHKQEd7jFHFGQ:1731511110511&q=tesla+model+y&udm=2&fbs=AEQNm0Aa4sjWe7Rqy32pFwRj0UkWd8nbOJfsBGGB5IQQO6L3J03RPjGV0MznOJ6Likin94p8FXzmjNmbQ-4rMNC3Kdp_MfCGNDf2gMtFo_xmu34b5BO1faXkOZydnALlPCXGOWugHDbKXz4py2cV9uHm3ebanoxzTMd3wEyKPywKolhmuUaz-wolR6Ah2iOXszV1lqWlwdUAWw3xiY56Rgzn9waXaTdP8A&sa=X&ved=2ahUKEwj2s6rFzdmJAxVyHDQIHU7dF3IQtKgLegQIHhAB&biw=1734&bih=1034&dpr=1\"\n",
    "\n",
    "# Step 4: Send a GET Request\n",
    "response = requests.get(URL)\n",
    "\n",
    "# Step 5: Parse the HTML Content\n",
    "soup = BeautifulSoup(response.content, 'html.parser')\n",
    "\n",
    "# Step 6: Find Image Tags\n",
    "image_tags = soup.find_all('div', class_='F0uyec')  # Class may vary; inspect the page source to find the correct class\n",
    "\n",
    "print(image_tags)\n",
    "\n",
    "# # Step 7: Extract Image URLs\n",
    "# image_urls = [img['src'] for img in image_tags]\n",
    "\n",
    "# # Step 8: Download Images\n",
    "# # Create a directory to save images\n",
    "# os.makedirs('images', exist_ok=True)\n",
    "\n",
    "# for i, url in enumerate(image_urls):\n",
    "#     # Save each image as image_0.jpg, image_1.jpg, etc.\n",
    "#     urllib.request.urlretrieve(url, f\"images/image_{i}.jpg\")\n",
    "\n",
    "# print(\"Images downloaded successfully.\")"
   ]
  },
  {
   "cell_type": "code",
   "execution_count": null,
   "id": "c7b470af-d8bc-43ec-8c2e-9a103ea05420",
   "metadata": {},
   "outputs": [],
   "source": []
  }
 ],
 "metadata": {
  "kernelspec": {
   "display_name": "Python 3 (ipykernel)",
   "language": "python",
   "name": "python3"
  },
  "language_info": {
   "codemirror_mode": {
    "name": "ipython",
    "version": 3
   },
   "file_extension": ".py",
   "mimetype": "text/x-python",
   "name": "python",
   "nbconvert_exporter": "python",
   "pygments_lexer": "ipython3",
   "version": "3.13.0"
  }
 },
 "nbformat": 4,
 "nbformat_minor": 5
}
