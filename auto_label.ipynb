{
 "cells": [
  {
   "cell_type": "code",
   "execution_count": 10,
   "id": "5f11b33b-c1bd-4c4b-83c3-a8e0a942e5f3",
   "metadata": {},
   "outputs": [
    {
     "name": "stdout",
     "output_type": "stream",
     "text": [
      "Labeled image saved to dataset/Model_3_labeled/img36.jpg\n",
      "Labeled image saved to dataset/Model_3_labeled/img37.jpg\n",
      "Labeled image saved to dataset/Model_3_labeled/img35.jpg\n",
      "Labeled image saved to dataset/Model_3_labeled/img30.jpg\n",
      "Labeled image saved to dataset/Model_3_labeled/img31.jpg\n",
      "Labeled image saved to dataset/Model_3_labeled/img33.jpg\n",
      "Labeled image saved to dataset/Model_3_labeled/img32.jpg\n",
      "Labeled image saved to dataset/Model_3_labeled/img41.jpg\n",
      "Labeled image saved to dataset/Model_3_labeled/img40.jpg\n",
      "Labeled image saved to dataset/Model_3_labeled/img42.jpg\n",
      "Labeled image saved to dataset/Model_3_labeled/img44.jpg\n",
      "Labeled image saved to dataset/Model_3_labeled/img9.jpg\n",
      "Labeled image saved to dataset/Model_3_labeled/img8.jpg\n",
      "Labeled image saved to dataset/Model_3_labeled/img45.jpg\n",
      "Labeled image saved to dataset/Model_3_labeled/img5.jpg\n"
     ]
    },
    {
     "ename": "KeyboardInterrupt",
     "evalue": "",
     "output_type": "error",
     "traceback": [
      "\u001b[0;31m---------------------------------------------------------------------------\u001b[0m",
      "\u001b[0;31mKeyboardInterrupt\u001b[0m                         Traceback (most recent call last)",
      "Cell \u001b[0;32mIn[10], line 66\u001b[0m\n\u001b[1;32m     64\u001b[0m \u001b[38;5;28;01mfor\u001b[39;00m filename \u001b[38;5;129;01min\u001b[39;00m os\u001b[38;5;241m.\u001b[39mlistdir(input_folder):\n\u001b[1;32m     65\u001b[0m     \u001b[38;5;28;01mif\u001b[39;00m filename\u001b[38;5;241m.\u001b[39mendswith((\u001b[38;5;124m'\u001b[39m\u001b[38;5;124m.jpg\u001b[39m\u001b[38;5;124m'\u001b[39m, \u001b[38;5;124m'\u001b[39m\u001b[38;5;124m.png\u001b[39m\u001b[38;5;124m'\u001b[39m)):\n\u001b[0;32m---> 66\u001b[0m         \u001b[43mdetect_and_label_model\u001b[49m\u001b[43m(\u001b[49m\u001b[43mos\u001b[49m\u001b[38;5;241;43m.\u001b[39;49m\u001b[43mpath\u001b[49m\u001b[38;5;241;43m.\u001b[39;49m\u001b[43mjoin\u001b[49m\u001b[43m(\u001b[49m\u001b[43minput_folder\u001b[49m\u001b[43m,\u001b[49m\u001b[43m \u001b[49m\u001b[43mfilename\u001b[49m\u001b[43m)\u001b[49m\u001b[43m,\u001b[49m\u001b[43m \u001b[49m\u001b[43mmodel\u001b[49m\u001b[43m)\u001b[49m\n",
      "Cell \u001b[0;32mIn[10], line 18\u001b[0m, in \u001b[0;36mdetect_and_label_model\u001b[0;34m(image_path, model_name)\u001b[0m\n\u001b[1;32m     17\u001b[0m \u001b[38;5;28;01mdef\u001b[39;00m \u001b[38;5;21mdetect_and_label_model\u001b[39m(image_path, model_name):\n\u001b[0;32m---> 18\u001b[0m     img \u001b[38;5;241m=\u001b[39m \u001b[43mcv2\u001b[49m\u001b[38;5;241;43m.\u001b[39;49m\u001b[43mimread\u001b[49m\u001b[43m(\u001b[49m\u001b[43mimage_path\u001b[49m\u001b[43m)\u001b[49m\n\u001b[1;32m     19\u001b[0m     height, width, _ \u001b[38;5;241m=\u001b[39m img\u001b[38;5;241m.\u001b[39mshape\n\u001b[1;32m     21\u001b[0m     \u001b[38;5;66;03m# Prepare image for YOLO\u001b[39;00m\n",
      "\u001b[0;31mKeyboardInterrupt\u001b[0m: "
     ]
    }
   ],
   "source": [
    "import cv2\n",
    "import numpy as np\n",
    "import os\n",
    "\n",
    "# List of Tesla models\n",
    "models = [\"Model_3\", \"Model_S\", \"Model_Y\", \"Model_X\"]\n",
    "\n",
    "# Load the pre-trained YOLO model\n",
    "net = cv2.dnn.readNet(\"../yolov4/yolov4.weights\", \"../yolov4/yolov4.cfg\")\n",
    "layer_names = net.getLayerNames()\n",
    "output_layers = [layer_names[i - 1] for i in net.getUnconnectedOutLayers()]\n",
    "\n",
    "# Load class labels\n",
    "with open(\"../yolov4/coco.names\", \"r\") as f:\n",
    "    classes = [line.strip() for line in f.readlines()]\n",
    "\n",
    "def detect_and_label_model(image_path, model_name):\n",
    "    img = cv2.imread(image_path)\n",
    "    height, width, _ = img.shape\n",
    "\n",
    "    # Prepare image for YOLO\n",
    "    blob = cv2.dnn.blobFromImage(img, 0.00392, (416, 416), (0, 0, 0), True, crop=False)\n",
    "    net.setInput(blob)\n",
    "    detections = net.forward(output_layers)\n",
    "\n",
    "    # Track highest confidence detection\n",
    "    max_confidence = 0\n",
    "    best_box = None\n",
    "\n",
    "    for detection in detections:\n",
    "        for object_detection in detection:\n",
    "            scores = object_detection[5:]\n",
    "            class_id = np.argmax(scores)\n",
    "            confidence = scores[class_id]\n",
    "\n",
    "            # Check if the detection is for a car and above confidence threshold\n",
    "            if classes[class_id] == \"car\" and confidence > 0.5 and confidence > max_confidence:\n",
    "                max_confidence = confidence\n",
    "                center_x = int(object_detection[0] * width)\n",
    "                center_y = int(object_detection[1] * height)\n",
    "                w = int(object_detection[2] * width)\n",
    "                h = int(object_detection[3] * height)\n",
    "                x = int(center_x - w / 2)\n",
    "                y = int(center_y - h / 2)\n",
    "                best_box = (x, y, w, h)\n",
    "\n",
    "    # Draw the best bounding box if one was found\n",
    "    if best_box:\n",
    "        x, y, w, h = best_box\n",
    "        label = f\"{model_name}\"\n",
    "        cv2.rectangle(img, (x, y), (x + w, y + h), (0, 255, 0), 2)\n",
    "        cv2.putText(img, label, (x, y - 10), cv2.FONT_HERSHEY_SIMPLEX, 1.0, (0, 255, 0), 2)\n",
    "    \n",
    "    # Save the labeled image\n",
    "    output_folder = f\"dataset/{model_name}_labeled\"\n",
    "    os.makedirs(output_folder, exist_ok=True)\n",
    "    output_path = os.path.join(output_folder, os.path.basename(image_path))\n",
    "    cv2.imwrite(output_path, img)\n",
    "    print(f\"Labeled image saved to {output_path}\")\n",
    "\n",
    "# Process each model\n",
    "for model in models:\n",
    "    input_folder = f\"dataset/{model}\"\n",
    "    for filename in os.listdir(input_folder):\n",
    "        if filename.endswith(('.jpg', '.png')):\n",
    "            detect_and_label_model(os.path.join(input_folder, filename), model)"
   ]
  },
  {
   "cell_type": "code",
   "execution_count": null,
   "id": "296296f7-67ea-4ec1-b02b-661f94602462",
   "metadata": {},
   "outputs": [],
   "source": []
  }
 ],
 "metadata": {
  "kernelspec": {
   "display_name": "Python 3 (ipykernel)",
   "language": "python",
   "name": "python3"
  },
  "language_info": {
   "codemirror_mode": {
    "name": "ipython",
    "version": 3
   },
   "file_extension": ".py",
   "mimetype": "text/x-python",
   "name": "python",
   "nbconvert_exporter": "python",
   "pygments_lexer": "ipython3",
   "version": "3.13.0"
  }
 },
 "nbformat": 4,
 "nbformat_minor": 5
}
